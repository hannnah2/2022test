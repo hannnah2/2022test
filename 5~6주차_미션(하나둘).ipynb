{
  "nbformat": 4,
  "nbformat_minor": 0,
  "metadata": {
    "colab": {
      "name": "5~6주차 미션(하나둘)",
      "provenance": [],
      "authorship_tag": "ABX9TyPThJCPXJBC9LPB51088RaN",
      "include_colab_link": true
    },
    "kernelspec": {
      "name": "python3",
      "display_name": "Python 3"
    },
    "language_info": {
      "name": "python"
    }
  },
  "cells": [
    {
      "cell_type": "markdown",
      "metadata": {
        "id": "view-in-github",
        "colab_type": "text"
      },
      "source": [
        "<a href=\"https://colab.research.google.com/github/hannnah2/2022test/blob/main/5~6%EC%A3%BC%EC%B0%A8_%EB%AF%B8%EC%85%98(%ED%95%98%EB%82%98%EB%91%98).ipynb\" target=\"_parent\"><img src=\"https://colab.research.google.com/assets/colab-badge.svg\" alt=\"Open In Colab\"/></a>"
      ]
    },
    {
      "cell_type": "code",
      "execution_count": 24,
      "metadata": {
        "colab": {
          "base_uri": "https://localhost:8080/",
          "height": 263
        },
        "id": "3nj2ArT2YJQj",
        "outputId": "5367bdc1-73b9-4c16-8ec7-954692e2a303"
      },
      "outputs": [
        {
          "output_type": "stream",
          "name": "stdout",
          "text": [
            "노인인구가 가장 많은 곳은 잠실3동입니다\n"
          ]
        },
        {
          "output_type": "error",
          "ename": "ValueError",
          "evalue": "ignored",
          "traceback": [
            "\u001b[0;31m---------------------------------------------------------------------------\u001b[0m",
            "\u001b[0;31mValueError\u001b[0m                                Traceback (most recent call last)",
            "\u001b[0;32m<ipython-input-24-b4700f39a6b2>\u001b[0m in \u001b[0;36m<module>\u001b[0;34m\u001b[0m\n\u001b[1;32m     21\u001b[0m \u001b[0;34m\u001b[0m\u001b[0m\n\u001b[1;32m     22\u001b[0m \u001b[0;32mfor\u001b[0m \u001b[0mrow\u001b[0m \u001b[0;32min\u001b[0m \u001b[0mdata3\u001b[0m\u001b[0;34m:\u001b[0m\u001b[0;34m\u001b[0m\u001b[0;34m\u001b[0m\u001b[0m\n\u001b[0;32m---> 23\u001b[0;31m   \u001b[0;32mif\u001b[0m \u001b[0mhigh\u001b[0m \u001b[0;34m<\u001b[0m \u001b[0mfloat\u001b[0m\u001b[0;34m(\u001b[0m\u001b[0mrow\u001b[0m\u001b[0;34m[\u001b[0m\u001b[0;36m6\u001b[0m\u001b[0;34m]\u001b[0m\u001b[0;34m)\u001b[0m\u001b[0;34m:\u001b[0m\u001b[0;34m\u001b[0m\u001b[0;34m\u001b[0m\u001b[0m\n\u001b[0m\u001b[1;32m     24\u001b[0m     \u001b[0mhigh\u001b[0m \u001b[0;34m=\u001b[0m \u001b[0mfloat\u001b[0m\u001b[0;34m(\u001b[0m\u001b[0mrow\u001b[0m\u001b[0;34m[\u001b[0m\u001b[0;36m6\u001b[0m\u001b[0;34m]\u001b[0m\u001b[0;34m)\u001b[0m\u001b[0;34m\u001b[0m\u001b[0;34m\u001b[0m\u001b[0m\n\u001b[1;32m     25\u001b[0m     \u001b[0msubway\u001b[0m\u001b[0;34m=\u001b[0m \u001b[0mrow\u001b[0m\u001b[0;34m[\u001b[0m\u001b[0;36m3\u001b[0m\u001b[0;34m]\u001b[0m\u001b[0;34m\u001b[0m\u001b[0;34m\u001b[0m\u001b[0m\n",
            "\u001b[0;31mValueError\u001b[0m: could not convert string to float: '185,391'"
          ]
        }
      ],
      "source": [
        "import csv\n",
        "data1 = csv.reader(open('people_2207.csv'))\n",
        "data2 = csv.reader(open('서울시_행정_법정동_코드.csv'))\n",
        "data3 = csv.reader(open('subway_2207.csv'))\n",
        "next(data1)\n",
        "next(data2)\n",
        "next(data3)\n",
        "a=1000\n",
        "high=1000\n",
        "for row in data1:\n",
        "  max = float(float(row[18])+float(row[31]))\n",
        "  if a < max :\n",
        "    a = max\n",
        "    b = row[2]\n",
        "\n",
        "for row in data2:\n",
        "  if b == row[1]:\n",
        "    c = row[2]\n",
        "\n",
        "print(\"노인인구가 가장 많은 곳은 \" + str(c) + \"입니다\")\n",
        "\n",
        "for row in data3:\n",
        "  if high < float(row[6]):\n",
        "    high = float(row[6])\n",
        "    subway= row[3]\n",
        "\n",
        "print(\"노인 인구가 가장 많이 몰리는 곳은\" + str(subway)+\"입니다\")"
      ]
    },
    {
      "cell_type": "code",
      "source": [
        ""
      ],
      "metadata": {
        "id": "UXvNbU-Zf6nT"
      },
      "execution_count": null,
      "outputs": []
    }
  ]
}